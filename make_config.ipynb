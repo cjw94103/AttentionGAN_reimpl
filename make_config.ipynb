{
 "cells": [
  {
   "cell_type": "code",
   "execution_count": 1,
   "id": "cecc9a87-312e-4040-b5a5-3e5903e8221e",
   "metadata": {},
   "outputs": [],
   "source": [
    "from utils import save_json"
   ]
  },
  {
   "cell_type": "code",
   "execution_count": null,
   "id": "ea92ab56-e049-4844-a776-eace0756099e",
   "metadata": {},
   "outputs": [],
   "source": [
    "param_dict = {}\n",
    "param_dict['data_path'] = '../01_CycleGAN/data/summer2winter_yosemite/'\n",
    "param_dict['img_height'] = 256\n",
    "param_dict['img_width'] = 256\n",
    "param_dict['channels'] = 3\n",
    "param_dict['num_workers'] = 0\n",
    "param_dict['batch_size'] = 8\n",
    "\n",
    "param_dict['n_blocks'] = 9\n",
    "param_dict['ngf'] = 64\n",
    "param_dict['n_layers'] = 3\n",
    "param_dict['ndf'] = 64\n",
    "\n",
    "param_dict['epochs'] = 200\n",
    "param_dict['lr_decay_epoch'] = 50\n",
    "param_dict['b1'] = 0.5\n",
    "param_dict['b2'] = 0.999\n",
    "param_dict['lr'] = 2e-4\n",
    "\n",
    "param_dict['lambda_cyc'] = 10.0\n",
    "param_dict['lambda_id'] = 0.5\n",
    "\n",
    "param_dict['model_save_path'] = './model_result/Summer2Winter/Translation_Model.pth'\n",
    "param_dict['save_per_epochs'] = 50\n",
    "\n",
    "param_dict['multi_gpu_flag'] = True\n",
    "param_dict['port_num'] = 14000"
   ]
  },
  {
   "cell_type": "code",
   "execution_count": null,
   "id": "a252da7f-b63e-4550-b613-59d5189f6f82",
   "metadata": {},
   "outputs": [],
   "source": [
    "save_json('./config/summer2winter_multi_gpu.json', param_dict)"
   ]
  }
 ],
 "metadata": {
  "kernelspec": {
   "display_name": "torch",
   "language": "python",
   "name": "torch"
  },
  "language_info": {
   "codemirror_mode": {
    "name": "ipython",
    "version": 3
   },
   "file_extension": ".py",
   "mimetype": "text/x-python",
   "name": "python",
   "nbconvert_exporter": "python",
   "pygments_lexer": "ipython3",
   "version": "3.9.18"
  }
 },
 "nbformat": 4,
 "nbformat_minor": 5
}
